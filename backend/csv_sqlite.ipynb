{
 "cells": [
  {
   "cell_type": "code",
   "execution_count": 18,
   "metadata": {},
   "outputs": [],
   "source": [
    "import pandas as pd\n",
    "from sqlite3 import connect"
   ]
  },
  {
   "cell_type": "code",
   "execution_count": 19,
   "metadata": {},
   "outputs": [
    {
     "name": "stderr",
     "output_type": "stream",
     "text": [
      "C:\\Users\\neilp\\AppData\\Local\\Temp\\ipykernel_32848\\908300096.py:1: DtypeWarning: Columns (1,2,3,7,8,9,11,13,14,15,23,25,26,27,28,29,30,31,32,33,34,35,36,37,38,39) have mixed types. Specify dtype option on import or set low_memory=False.\n",
      "  shots = pd.read_csv('./seasons/shots.csv')\n"
     ]
    }
   ],
   "source": [
    "shots = pd.read_csv('./seasons/shots.csv')"
   ]
  },
  {
   "cell_type": "code",
   "execution_count": 20,
   "metadata": {},
   "outputs": [],
   "source": [
    "shots = shots[[\"season\", \"date\", \"team_skaters\", \"opposing_skaters\", \"isGoal\", \"xGF\", \"goalie_id\"]]"
   ]
  },
  {
   "cell_type": "code",
   "execution_count": 21,
   "metadata": {},
   "outputs": [],
   "source": [
    "conn = connect(\"shots.db\")\n",
    "curr = conn.cursor()\n",
    "\n",
    "# create a table \n",
    "create_table_sql = '''\n",
    "CREATE TABLE IF NOT EXISTS shots (\n",
    "    season TEXT,\n",
    "    date TEXT,\n",
    "    team_skaters TEXT,\n",
    "    opposing_skaters TEXT,\n",
    "    isGoal INTEGER,\n",
    "    xGF REAL,\n",
    "    goalie_id INTEGER\n",
    ");\n",
    "'''\n",
    "curr.execute(create_table_sql)\n",
    "# commit the query\n",
    "conn.commit()"
   ]
  },
  {
   "cell_type": "code",
   "execution_count": 22,
   "metadata": {},
   "outputs": [],
   "source": [
    "shots.to_sql('shots', con=conn, if_exists='replace')\n",
    "conn.close()"
   ]
  },
  {
   "cell_type": "code",
   "execution_count": null,
   "metadata": {},
   "outputs": [],
   "source": []
  },
  {
   "cell_type": "code",
   "execution_count": null,
   "metadata": {},
   "outputs": [],
   "source": []
  }
 ],
 "metadata": {
  "kernelspec": {
   "display_name": "Python 3",
   "language": "python",
   "name": "python3"
  },
  "language_info": {
   "codemirror_mode": {
    "name": "ipython",
    "version": 3
   },
   "file_extension": ".py",
   "mimetype": "text/x-python",
   "name": "python",
   "nbconvert_exporter": "python",
   "pygments_lexer": "ipython3",
   "version": "3.11.4"
  },
  "orig_nbformat": 4
 },
 "nbformat": 4,
 "nbformat_minor": 2
}
