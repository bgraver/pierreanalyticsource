{
 "cells": [
  {
   "cell_type": "code",
   "execution_count": 102,
   "metadata": {},
   "outputs": [],
   "source": [
    "import pandas as pd\n",
    "from tqdm import tqdm\n",
    "import requests\n",
    "from sqlite3 import connect\n",
    "import time as tm"
   ]
  },
  {
   "cell_type": "code",
   "execution_count": 103,
   "metadata": {},
   "outputs": [],
   "source": [
    "# Load data\n",
    "season = 2018\n",
    "season_string = 20172018\n",
    "shots = pd.read_csv('./shots/2018_shots_g.csv', encoding='latin-1')"
   ]
  },
  {
   "cell_type": "code",
   "execution_count": 104,
   "metadata": {},
   "outputs": [
    {
     "name": "stderr",
     "output_type": "stream",
     "text": [
      "100%|██████████| 74919/74919 [00:02<00:00, 28723.84it/s]\n"
     ]
    }
   ],
   "source": [
    "# Create dictionaries for goalie statistics\n",
    "goalies = {}\n",
    "\n",
    "for i in tqdm(range(0, len(shots))):\n",
    "    shot = shots.iloc[i]\n",
    "    if str(shot['goalie_id']) == 'nan':\n",
    "        continue\n",
    "    goalie_id = str(int(shot['goalie_id']))[:7]\n",
    "    goalies[goalie_id] = {}"
   ]
  },
  {
   "cell_type": "code",
   "execution_count": 105,
   "metadata": {},
   "outputs": [
    {
     "name": "stderr",
     "output_type": "stream",
     "text": [
      "100%|██████████| 93/93 [00:36<00:00,  2.52it/s]\n"
     ]
    }
   ],
   "source": [
    "# Update Dictionaries with other statistics for goalies\n",
    "shootout = requests.get(f\"https://api.nhle.com/stats/rest/en/goalie/shootout?isAggregate=false&isGame=false&sort=%5B%7B%22property%22:%22shootoutWins%22,%22direction%22:%22DESC%22%7D,%7B%22property%22:%22shootoutSavePct%22,%22direction%22:%22DESC%22%7D,%7B%22property%22:%22playerId%22,%22direction%22:%22ASC%22%7D%5D&start=0&limit=500&factCayenneExp=gamesPlayed%3E=1&cayenneExp=gameTypeId=2%20and%20seasonId%3C={season_string}%20and%20seasonId%3E={season_string}\").json();\n",
    "for player_id, stats in tqdm(goalies.items()):\n",
    "    player = requests.get(f'https://api-web.nhle.com/v1/player/{player_id}/landing').json()\n",
    "    stats['position'] = 'G'\n",
    "\n",
    "    # Populate Dictionary with relevant data\n",
    "    stats['firstName'] = player['firstName'][\"default\"]\n",
    "    stats['lastName'] = player['lastName'][\"default\"]\n",
    "    stats['birthDate'] = player['birthDate']\n",
    "    stats['nationality'] = player['birthCountry']\n",
    "    stats['position'] = player['position']\n",
    "    stats['height'] = player['heightInInches']\n",
    "    stats['weight'] = player['weightInPounds']\n",
    "    stats['team'] = list(filter(lambda x: x['leagueAbbrev'] == 'NHL' and x[\"season\"] == season_string, player['seasonTotals']))[-1]['teamName'][\"default\"]\n",
    "    stats['handedness'] = player['shootsCatches']\n",
    "\n",
    "    # TOI\n",
    "    nhl_seasons = list(filter(lambda x: x['leagueAbbrev'] == 'NHL' and x[\"season\"] == season_string and x['gameTypeId'] == 2, player['seasonTotals']))\n",
    "    total_toi =0 \n",
    "    starts = 0\n",
    "    for nhl_seas in nhl_seasons:\n",
    "        seas = nhl_seas[\"timeOnIce\"]\n",
    "        starts += nhl_seas['gamesStarted']\n",
    "        m, s = map(int, seas.split(':'))\n",
    "        total_toi += m + s/60\n",
    "\n",
    "    stats['TOI'] = total_toi\n",
    "    stats['starts'] = starts\n",
    "\n",
    "    shootout_stats = list(filter(lambda x: int(x[\"playerId\"]) == int(player_id), shootout[\"data\"]))\n",
    "\n",
    "    if len(shootout_stats) == 0:\n",
    "        stats['shootout'] = 0\n",
    "    else:\n",
    "        stats['shootout'] = shootout_stats[0][\"shootoutSavePct\"]\n",
    "\n",
    "    goalies[player_id] = stats"
   ]
  },
  {
   "cell_type": "code",
   "execution_count": 106,
   "metadata": {},
   "outputs": [
    {
     "name": "stderr",
     "output_type": "stream",
     "text": [
      "100%|██████████| 93/93 [00:35<00:00,  2.64it/s]\n"
     ]
    }
   ],
   "source": [
    "# Other stats\n",
    "\n",
    "for player_id, stats in tqdm(goalies.items()):\n",
    "    if stats['TOI'] == 0:\n",
    "        continue\n",
    "    # Low Danger Shots\n",
    "    xG = shots[(shots['goalie_id'].astype(str).str[:7] == player_id) & (shots['xGF'] < 0.05)]['xGF'].sum()\n",
    "    goals = shots[(shots['goalie_id'].astype(str).str[:7] == player_id) & (shots['xGF'] < 0.05)]['isGoal'].sum()\n",
    "\n",
    "    stats['low_danger'] = (xG - goals)\n",
    "\n",
    "    # Medium Danger Shots\n",
    "    xG = shots[(shots['goalie_id'].astype(str).str[:7] == player_id) & (shots['xGF'] > 0.05) & (shots['xGF'] < 0.15)]['xGF'].sum()\n",
    "    goals = shots[(shots['goalie_id'].astype(str).str[:7] == player_id) & (shots['xGF'] > 0.05) & (shots['xGF'] < 0.15)]['isGoal'].sum()\n",
    "    freq = len(shots[(shots['goalie_id'].astype(str).str[:7] == player_id) & (shots['xGF'] > 0.05) & (shots['xGF'] < 0.15)]['xGF'])\n",
    "\n",
    "\n",
    "    stats['medium_danger'] = (xG - goals)\n",
    "    stats['medium_danger_freq'] = (freq / stats['TOI']) * 60 if stats['TOI'] != 0 else 0\n",
    "\n",
    "    # High Danger Shots\n",
    "    xG = shots[(shots['goalie_id'].astype(str).str[:7] == player_id) & (shots['xGF'] > 0.15)]['xGF'].sum()\n",
    "    goals = shots[(shots['goalie_id'].astype(str).str[:7] == player_id) & (shots['xGF'] > 0.15)]['isGoal'].sum()\n",
    "    freq = len(shots[(shots['goalie_id'].astype(str).str[:7] == player_id) & (shots['xGF'] > 0.15)]['xGF'])\n",
    "\n",
    "    stats['high_danger'] = (xG - goals)\n",
    "    stats['high_danger_freq'] = (freq / stats['TOI']) * 60 if stats['TOI'] != 0 else 0\n",
    "    \n",
    "    # PK\n",
    "    xG = shots[(shots['goalie_id'].astype(str).str[:7] == player_id) & (shots['strength'] == 'Powerplay')]['xGF'].sum()\n",
    "    goals = sum(shots[(shots['goalie_id'].astype(str).str[:7] == player_id) & (shots['strength'] == 'PP')]['isGoal'])\n",
    "\n",
    "\n",
    "    stats['pk'] = (xG - goals)\n",
    "\n",
    "    # EV\n",
    "    xG = sum(shots[(shots['goalie_id'].astype(str).str[:7] == player_id) & (shots['strength'] == 'EV')]['xGF'])\n",
    "    goals = sum(shots[(shots['goalie_id'].astype(str).str[:7] == player_id) & (shots['strength'] == 'EV')]['isGoal'])\n",
    "\n",
    "    stats['ev'] = (xG - goals)\n",
    "\n",
    "goalies[player_id] = stats\n"
   ]
  },
  {
   "cell_type": "code",
   "execution_count": 107,
   "metadata": {},
   "outputs": [
    {
     "name": "stderr",
     "output_type": "stream",
     "text": [
      "100%|██████████| 7320/7320 [12:25<00:00,  9.82it/s]  \n"
     ]
    }
   ],
   "source": [
    "# Get Shots Per Player\n",
    "shots_goals = shots[shots['isGoal'] == 1]\n",
    "for i in tqdm(range(0, len(shots_goals))):\n",
    "    shot = shots_goals.iloc[i]\n",
    "    if str(shot['event']) != 'goal' or str(shot['goalie_id']) == 'nan':\n",
    "        continue\n",
    "    stats = goalies[str(int(shot['goalie_id']))[:7]]\n",
    "    goalie_id = str(int(shot['goalie_id']))[:7]\n",
    "\n",
    "    player_shots = stats.get('shots', [])\n",
    "\n",
    "    event_id = str(shot['shot_id'])\n",
    "    game = shot['gameID']\n",
    "    link = ['No link found.']\n",
    "\n",
    "    # Grab media (shoutout trusty)\n",
    "    if event_id != 'nan':\n",
    "        failed = True\n",
    "        while failed:\n",
    "            try:\n",
    "                media = requests.get(f'https://forge-dapi.d3.nhle.com/v2/content/en-US/videos?context.slug=nhl&tags.slug=highlight&tags.slug=gameid-{game}').json()\n",
    "                failed = False\n",
    "            except (requests.exceptions.RequestException,\n",
    "                ConnectionResetError) as err:\n",
    "                tm.sleep(20)\n",
    "                print('Taking a break...')\n",
    "        highlights =  media[\"items\"]\n",
    "        shot_list = list(filter(lambda x: \"fields\" in x.keys(), highlights))\n",
    "        shot_list = list(map(lambda x: x[\"fields\"], shot_list))\n",
    "        shot_list = list(filter(lambda x: \"statsEventId\" in x.keys() and x[\"statsEventId\"] == event_id, shot_list))\n",
    "        if len(shot_list) != 0:\n",
    "            shot_id = shot_list[0]['statsEventId']\n",
    "            if str(event_id) == shot_id:\n",
    "                try:\n",
    "                    link = f'https://players.brightcove.net/6415718365001/EXtG1xJ7H_default/index.html?videoId={shot_list[0][\"brightcoveId\"]}'\n",
    "                except:\n",
    "                    link\n",
    "\n",
    "\n",
    "    shooter = shot['shooter']\n",
    "\n",
    "\n",
    "    player_shots.append({'date': shot['date'], 'shooter': shooter, 'goalie': shot['goalie'], 'strength': shot['strength'], 'away_goals': shot['away_goals'], 'home_goals': shot['home_goals'], 'home_team': shot['home'], 'away_team': shot['away'], 'x': shot['x'], 'y': shot['y'], 'prev_event': shot['prev_event'], 'type': shot['shotType'], 'xG': shot['xGF'], 'Outcome': shot['event'], 'Link': link})\n",
    "\n",
    "    stats['shots'] = player_shots\n",
    "    goalies[goalie_id] = stats"
   ]
  },
  {
   "cell_type": "code",
   "execution_count": 108,
   "metadata": {},
   "outputs": [],
   "source": [
    "# conn = connect(\"player_stats.db\")\n",
    "# curr = conn.cursor()\n",
    "\n",
    "# # create a table \n",
    "# curr.execute('CREATE TABLE IF NOT EXISTS goalie_numbers (TOI NUMBER, season NUMBER, starts NUMBER, shootout NUMBER, shots TEXT, low_danger NUMBER, medium_danger NUMBER, medium_danger_freq NUMBER, high_danger NUMBER, high_danger_freq NUMBER,  pk NUMBER, ev NUMBER  firstName TEXT, lastName TEXT, birthDate TEXT, nationality TEXT, position TEXT, height TEXT, weight NUMBER, team TEXT, handedness TEXT, player_id TEXT)')\n",
    " \n",
    "# # commit the query\n",
    "# conn.commit()"
   ]
  },
  {
   "cell_type": "code",
   "execution_count": 109,
   "metadata": {},
   "outputs": [],
   "source": [
    "# conn = connect(\"player_stats.db\")\n",
    "# curr = conn.cursor()\n",
    "\n",
    "# # create a table \n",
    "# curr.execute('CREATE TABLE IF NOT EXISTS goalie_numbers_no_percentile (TOI NUMBER, season NUMBER, starts NUMBER, shootout NUMBER, shots TEXT, low_danger NUMBER, medium_danger NUMBER, medium_danger_freq NUMBER, high_danger NUMBER, high_danger_freq NUMBER,  pk NUMBER, ev NUMBER, firstName TEXT, lastName TEXT, birthDate TEXT, nationality TEXT, position TEXT, height TEXT, weight NUMBER, team TEXT, handedness TEXT, player_id TEXT)')\n",
    " \n",
    "# # commit the query\n",
    "# conn.commit()"
   ]
  },
  {
   "cell_type": "code",
   "execution_count": 110,
   "metadata": {},
   "outputs": [],
   "source": [
    "conn = connect(\"player_stats.db\")\n",
    "curr = conn.cursor()\n",
    "# conn.execute(\"VACUUM\")\n",
    "# conn.close()"
   ]
  },
  {
   "cell_type": "code",
   "execution_count": 111,
   "metadata": {},
   "outputs": [],
   "source": [
    "# Convert Dict to Pandas\n",
    "\n",
    "players = []\n",
    "\n",
    "for player_id, stats in goalies.items():\n",
    "    stats['player_id'] = str(player_id)\n",
    "    players.append(pd.DataFrame.from_dict([stats]))\n",
    "\n",
    "df = pd.concat(players)\n",
    "df['season'] = [season] * len(df)\n",
    "    "
   ]
  },
  {
   "cell_type": "code",
   "execution_count": 112,
   "metadata": {},
   "outputs": [],
   "source": [
    "# Make sure types match up\n",
    "df['firstName'] = df['firstName'].astype(str)\n",
    "df['lastName'] = df['lastName'].astype(str)\n",
    "df['birthDate'] = df['birthDate'].astype(str)\n",
    "df['nationality'] = df['nationality'].astype(str)\n",
    "df['height'] = df['height'].astype(str)\n",
    "df['team'] = df['team'].astype(str)\n",
    "df['handedness'] = df['handedness'].astype(str)\n",
    "df['player_id'] = df['player_id'].astype(str)\n",
    "df['shots'] = df['shots'].astype(str)"
   ]
  },
  {
   "cell_type": "code",
   "execution_count": 113,
   "metadata": {},
   "outputs": [],
   "source": [
    "df = df[df['TOI'] >= 300]"
   ]
  },
  {
   "cell_type": "code",
   "execution_count": 114,
   "metadata": {},
   "outputs": [
    {
     "data": {
      "text/plain": [
       "74"
      ]
     },
     "execution_count": 114,
     "metadata": {},
     "output_type": "execute_result"
    }
   ],
   "source": [
    "# Dump to SQL\n",
    "df.to_sql('goalie_numbers_no_percentile', conn, if_exists='append', index=False)"
   ]
  },
  {
   "cell_type": "code",
   "execution_count": 115,
   "metadata": {},
   "outputs": [],
   "source": [
    "df['TOI'] = df.TOI.rank(pct = True)\n",
    "df['starts'] = df.starts.rank(pct = True)\n",
    "df['shootout'] = df.shootout.rank(pct = True)\n",
    "df['low_danger'] = df.low_danger.rank(pct = True)\n",
    "df['medium_danger'] = df.medium_danger.rank(pct = True)\n",
    "df['medium_danger_freq'] = df.medium_danger_freq.rank(pct = True)\n",
    "df['high_danger'] = df.high_danger.rank(pct = True)\n",
    "df['high_danger_freq'] = df.high_danger_freq.rank(pct = True)\n",
    "df['pk'] = df.pk.rank(pct = True)\n",
    "df['ev'] = df.ev.rank(pct = True)"
   ]
  },
  {
   "cell_type": "code",
   "execution_count": 116,
   "metadata": {},
   "outputs": [
    {
     "data": {
      "text/plain": [
       "74"
      ]
     },
     "execution_count": 116,
     "metadata": {},
     "output_type": "execute_result"
    }
   ],
   "source": [
    "# Dump to SQL\n",
    "df.to_sql('goalie_numbers', conn, if_exists='append')"
   ]
  },
  {
   "cell_type": "code",
   "execution_count": 117,
   "metadata": {},
   "outputs": [],
   "source": [
    "# conn.close()"
   ]
  },
  {
   "cell_type": "code",
   "execution_count": 118,
   "metadata": {},
   "outputs": [],
   "source": [
    "# conn = connect(\"player_stats.db\")\n",
    "# conn.execute(\"DROP TABLE goalies\")"
   ]
  },
  {
   "cell_type": "code",
   "execution_count": 119,
   "metadata": {},
   "outputs": [],
   "source": [
    "# conn = connect(\"player_stats.db\")\n",
    "# conn.execute(\"VACUUM\")\n",
    "# conn.close()"
   ]
  },
  {
   "cell_type": "code",
   "execution_count": 120,
   "metadata": {},
   "outputs": [],
   "source": [
    "conn.close()"
   ]
  },
  {
   "cell_type": "code",
   "execution_count": null,
   "metadata": {},
   "outputs": [],
   "source": []
  }
 ],
 "metadata": {
  "kernelspec": {
   "display_name": "Python 3",
   "language": "python",
   "name": "python3"
  },
  "language_info": {
   "codemirror_mode": {
    "name": "ipython",
    "version": 3
   },
   "file_extension": ".py",
   "mimetype": "text/x-python",
   "name": "python",
   "nbconvert_exporter": "python",
   "pygments_lexer": "ipython3",
   "version": "3.11.4"
  },
  "orig_nbformat": 4,
  "vscode": {
   "interpreter": {
    "hash": "4fbdbf99584aca7d4c7cfcf519f9e99f3de96b5eb7e388874fabb10c690d2104"
   }
  }
 },
 "nbformat": 4,
 "nbformat_minor": 2
}
